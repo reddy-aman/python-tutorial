{
  "nbformat": 4,
  "nbformat_minor": 0,
  "metadata": {
    "colab": {
      "provenance": [],
      "authorship_tag": "ABX9TyNe9zPLA8w5NyXHU3ymv3yc",
      "include_colab_link": true
    },
    "kernelspec": {
      "name": "python3",
      "display_name": "Python 3"
    },
    "language_info": {
      "name": "python"
    }
  },
  "cells": [
    {
      "cell_type": "markdown",
      "metadata": {
        "id": "view-in-github",
        "colab_type": "text"
      },
      "source": [
        "<a href=\"https://colab.research.google.com/github/reddy-aman/python-tutorial/blob/main/functions.ipynb\" target=\"_parent\"><img src=\"https://colab.research.google.com/assets/colab-badge.svg\" alt=\"Open In Colab\"/></a>"
      ]
    },
    {
      "cell_type": "code",
      "execution_count": 1,
      "metadata": {
        "colab": {
          "base_uri": "https://localhost:8080/"
        },
        "id": "srv0OpnU9Puq",
        "outputId": "a48afd0f-030f-47c2-f25d-290d9a09fa60"
      },
      "outputs": [
        {
          "output_type": "stream",
          "name": "stdout",
          "text": [
            "Hello aman. Your lucky number is 36\n"
          ]
        }
      ],
      "source": [
        "def lucky_number(name):\n",
        "  number = len(name) * 9\n",
        "  print(\"Hello \" + name + \". Your lucky number is \" + str(number))\n",
        "lucky_number('aman')"
      ]
    },
    {
      "cell_type": "code",
      "source": [
        "name = \"Kay\"\n",
        "number = len(name) * 9\n",
        "\n",
        "print(\"Hello \" + name + \". Your lucky number is \" + str(number))\n",
        "\n",
        "name = \"Cameron\"\n",
        "number = len(name) * 9\n",
        "\n",
        "print(\"Hello \" + name + \". Your lucky number is \" + str(number))"
      ],
      "metadata": {
        "colab": {
          "base_uri": "https://localhost:8080/"
        },
        "id": "hX2X0rFC8tBp",
        "outputId": "266f3f53-14e0-4fec-9efb-00f6da5ab465"
      },
      "execution_count": null,
      "outputs": [
        {
          "output_type": "stream",
          "name": "stdout",
          "text": [
            "Hello Kay. Your lucky number is 27\n",
            "Hello Cameron. Your lucky number is 63\n"
          ]
        }
      ]
    }
  ]
}